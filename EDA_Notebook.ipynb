{
 "cells": [
  {
   "cell_type": "markdown",
   "id": "d504d586",
   "metadata": {},
   "source": [
    "# EDA for Cab Data Analysis\n",
    "\n",
    "In this notebook, we will perform Exploratory Data Analysis (EDA) on the master dataset created from the provided data files. The objective is to derive actionable insights that will help XYZ in identifying the right cab company for investment.\n"
   ]
  },
  {
   "cell_type": "code",
   "execution_count": null,
   "id": "b264b47a",
   "metadata": {},
   "outputs": [],
   "source": [
    "import pandas as pd\n",
    "import matplotlib.pyplot as plt\n",
    "import seaborn as sns\n",
    "%matplotlib inline"
   ]
  },
  {
   "cell_type": "code",
   "execution_count": null,
   "id": "b4b1d7b0",
   "metadata": {},
   "outputs": [],
   "source": [
    "import pandas as pd\n",
    "import matplotlib.pyplot as plt\n",
    "import seaborn as sns\n",
    "%matplotlib inline"
   ]
  },
  {
   "cell_type": "code",
   "execution_count": null,
   "id": "b8d4bc65",
   "metadata": {},
   "outputs": [],
   "source": [
    "# Load the master dataset\n",
    "master_data = pd.read_csv('/mnt/data/Master_Data.csv')\n",
    "master_data.head()"
   ]
  },
  {
   "cell_type": "markdown",
   "id": "746d896a",
   "metadata": {},
   "source": [
    "## Data Cleaning\n",
    "Check for missing values and duplicates."
   ]
  },
  {
   "cell_type": "code",
   "execution_count": null,
   "id": "73f908f4",
   "metadata": {},
   "outputs": [],
   "source": [
    "# Check for missing values\n",
    "missing_values = master_data.isnull().sum()\n",
    "missing_values"
   ]
  },
  {
   "cell_type": "code",
   "execution_count": null,
   "id": "bd5c09ef",
   "metadata": {},
   "outputs": [],
   "source": [
    "# Check for duplicates\n",
    "duplicates = master_data.duplicated().sum()\n",
    "duplicates"
   ]
  },
  {
   "cell_type": "markdown",
   "id": "abe77efc",
   "metadata": {},
   "source": [
    "## Descriptive Statistics\n",
    "Get an overview of the dataset with basic statistics."
   ]
  },
  {
   "cell_type": "code",
   "execution_count": null,
   "id": "d836cc1b",
   "metadata": {},
   "outputs": [],
   "source": [
    "master_data.describe()"
   ]
  },
  {
   "cell_type": "markdown",
   "id": "487b2b57",
   "metadata": {},
   "source": [
    "## Visualizations\n",
    "Create visualizations to understand the data distribution and relationships."
   ]
  },
  {
   "cell_type": "code",
   "execution_count": null,
   "id": "d4fbdffb",
   "metadata": {},
   "outputs": [],
   "source": [
    "# Distribution of Price Charged\n",
    "plt.figure(figsize=(10, 6))\n",
    "sns.histplot(master_data['Price Charged'], kde=True)\n",
    "plt.title('Distribution of Price Charged')\n",
    "plt.xlabel('Price Charged')\n",
    "plt.ylabel('Frequency')\n",
    "plt.show()"
   ]
  },
  {
   "cell_type": "code",
   "execution_count": null,
   "id": "a8323744",
   "metadata": {},
   "outputs": [],
   "source": [
    "# Scatter plot of KM Travelled vs Price Charged\n",
    "plt.figure(figsize=(10, 6))\n",
    "sns.scatterplot(data=master_data, x='KM Travelled', y='Price Charged', hue='Company')\n",
    "plt.title('KM Travelled vs Price Charged')\n",
    "plt.xlabel('KM Travelled')\n",
    "plt.ylabel('Price Charged')\n",
    "plt.show()"
   ]
  },
  {
   "cell_type": "code",
   "execution_count": null,
   "id": "798711ca",
   "metadata": {},
   "outputs": [],
   "source": [
    "# Box plot of Price Charged by Company\n",
    "plt.figure(figsize=(10, 6))\n",
    "sns.boxplot(data=master_data, x='Company', y='Price Charged')\n",
    "plt.title('Price Charged by Company')\n",
    "plt.xlabel('Company')\n",
    "plt.ylabel('Price Charged')\n",
    "plt.show()"
   ]
  }
 ],
 "metadata": {},
 "nbformat": 4,
 "nbformat_minor": 5
}
